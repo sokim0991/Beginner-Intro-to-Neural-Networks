{
  "nbformat": 4,
  "nbformat_minor": 0,
  "metadata": {
    "colab": {
      "name": "softmax.ipynb",
      "provenance": [],
      "include_colab_link": true
    },
    "kernelspec": {
      "name": "python3",
      "display_name": "Python 3"
    }
  },
  "cells": [
    {
      "cell_type": "markdown",
      "metadata": {
        "id": "view-in-github",
        "colab_type": "text"
      },
      "source": [
        "<a href=\"https://colab.research.google.com/github/sokim0991/Beginner-Intro-to-Neural-Networks/blob/main/softmax.ipynb\" target=\"_parent\"><img src=\"https://colab.research.google.com/assets/colab-badge.svg\" alt=\"Open In Colab\"/></a>"
      ]
    },
    {
      "cell_type": "code",
      "metadata": {
        "id": "KzgGFJ17KBoM"
      },
      "source": [
        "import numpy as np\n",
        "\n",
        "def softmax(a):\n",
        "  exp_a = np.exp(all)\n",
        "  sum_exp_a = np.sum(exp_a)\n",
        "  y = exp_a / sum_exp_a\n",
        "    \n",
        "  return y"
      ],
      "execution_count": null,
      "outputs": []
    },
    {
      "cell_type": "code",
      "metadata": {
        "id": "yOxwWcqKKJxW"
      },
      "source": [
        "a = np.array([0.3,2.9,4.0])\n",
        "exp_a = np.exp(a)\n",
        "sum_exp_a = np.sum(exp_a)\n",
        "y = exp_a / sum_exp_a"
      ],
      "execution_count": null,
      "outputs": []
    },
    {
      "cell_type": "code",
      "metadata": {
        "colab": {
          "base_uri": "https://localhost:8080/"
        },
        "id": "EVdGShzIKenV",
        "outputId": "5f413811-2713-4ad8-a290-901ebc0bfb5a"
      },
      "source": [
        "print(a)"
      ],
      "execution_count": null,
      "outputs": [
        {
          "output_type": "stream",
          "text": [
            "[0.3 2.9 4. ]\n"
          ],
          "name": "stdout"
        }
      ]
    },
    {
      "cell_type": "code",
      "metadata": {
        "colab": {
          "base_uri": "https://localhost:8080/"
        },
        "id": "6idIboepK3Ab",
        "outputId": "7b3ad1cb-2a04-42ea-914b-1694c52a997a"
      },
      "source": [
        "print(exp_a)"
      ],
      "execution_count": null,
      "outputs": [
        {
          "output_type": "stream",
          "text": [
            "[ 1.34985881 18.17414537 54.59815003]\n"
          ],
          "name": "stdout"
        }
      ]
    },
    {
      "cell_type": "code",
      "metadata": {
        "colab": {
          "base_uri": "https://localhost:8080/"
        },
        "id": "Tw5ZhTyMK7AB",
        "outputId": "81c198e8-d1f4-4e77-b60d-d52ca31c0df1"
      },
      "source": [
        "print(sum_exp_a)"
      ],
      "execution_count": null,
      "outputs": [
        {
          "output_type": "stream",
          "text": [
            "74.1221542101633\n"
          ],
          "name": "stdout"
        }
      ]
    },
    {
      "cell_type": "code",
      "metadata": {
        "colab": {
          "base_uri": "https://localhost:8080/"
        },
        "id": "51tFtoK0LAUl",
        "outputId": "e666988c-d5e6-4579-d2e3-94cf0cbbaf83"
      },
      "source": [
        "print(y)"
      ],
      "execution_count": null,
      "outputs": [
        {
          "output_type": "stream",
          "text": [
            "[0.01821127 0.24519181 0.73659691]\n"
          ],
          "name": "stdout"
        }
      ]
    },
    {
      "cell_type": "code",
      "metadata": {
        "colab": {
          "base_uri": "https://localhost:8080/"
        },
        "id": "apDmH6K3LIHU",
        "outputId": "530f690e-4bfa-4592-cafd-3a88fcf07b19"
      },
      "source": [
        "print(sum(y))"
      ],
      "execution_count": null,
      "outputs": [
        {
          "output_type": "stream",
          "text": [
            "1.0\n"
          ],
          "name": "stdout"
        }
      ]
    },
    {
      "cell_type": "markdown",
      "metadata": {
        "id": "VUl9TMLiRQh7"
      },
      "source": [
        "Softmax는 Overflow에 취약하다. 수식에 e^x 들어가기 때문에 Overflow 범위를 넘어설 수 있다. 이를 해결하기 위해서는 Softmax의 성질을 이용한다.\n"
      ]
    },
    {
      "cell_type": "code",
      "metadata": {
        "colab": {
          "base_uri": "https://localhost:8080/"
        },
        "id": "4IWL9shLRXpy",
        "outputId": "dc4a37a5-532f-427c-f194-ba8eab87d795"
      },
      "source": [
        "a = np.array([1010, 1000, 990]) \n",
        "print(np.exp(a) / np.sum(np.exp(a)))"
      ],
      "execution_count": null,
      "outputs": [
        {
          "output_type": "stream",
          "text": [
            "[nan nan nan]\n"
          ],
          "name": "stdout"
        },
        {
          "output_type": "stream",
          "text": [
            "/usr/local/lib/python3.6/dist-packages/ipykernel_launcher.py:2: RuntimeWarning: overflow encountered in exp\n",
            "  \n",
            "/usr/local/lib/python3.6/dist-packages/ipykernel_launcher.py:2: RuntimeWarning: invalid value encountered in true_divide\n",
            "  \n"
          ],
          "name": "stderr"
        }
      ]
    },
    {
      "cell_type": "code",
      "metadata": {
        "id": "djHYCODuSEer"
      },
      "source": [
        "c = np.max(a)"
      ],
      "execution_count": null,
      "outputs": []
    },
    {
      "cell_type": "code",
      "metadata": {
        "colab": {
          "base_uri": "https://localhost:8080/"
        },
        "id": "d8hHKmO8R9Ke",
        "outputId": "d485ec33-2ee0-44b1-9b5c-1a5849d5a254"
      },
      "source": [
        "print(a-c)"
      ],
      "execution_count": null,
      "outputs": [
        {
          "output_type": "stream",
          "text": [
            "[  0 -10 -20]\n"
          ],
          "name": "stdout"
        }
      ]
    },
    {
      "cell_type": "code",
      "metadata": {
        "id": "nmctZ8viQ6vN"
      },
      "source": [
        "def new_softmax(a) : \n",
        "    c = np.max(a) # 최댓값\n",
        "    exp_a = np.exp(a-c) # 각각의 원소에 최댓값을 뺀 값에 exp를 취한다. (이를 통해 overflow 방지)\n",
        "    sum_exp_a = np.sum(exp_a)\n",
        "    y = exp_a / sum_exp_a\n",
        "    return y"
      ],
      "execution_count": null,
      "outputs": []
    }
  ]
}