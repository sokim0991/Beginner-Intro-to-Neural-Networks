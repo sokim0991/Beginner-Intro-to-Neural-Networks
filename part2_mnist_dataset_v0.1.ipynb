{
 "cells": [
  {
   "cell_type": "code",
   "execution_count": 8,
   "metadata": {},
   "outputs": [],
   "source": [
    "data_file = open(\"mnist_dataset/mnist_train_100.txt\", 'r')\n",
    "data_list = data_file.readline()\n",
    "data_file.close()"
   ]
  },
  {
   "cell_type": "code",
   "execution_count": 9,
   "metadata": {},
   "outputs": [
    {
     "data": {
      "text/plain": [
       "1846"
      ]
     },
     "execution_count": 9,
     "metadata": {},
     "output_type": "execute_result"
    }
   ],
   "source": [
    "len(data_list)"
   ]
  },
  {
   "cell_type": "code",
   "execution_count": 10,
   "metadata": {},
   "outputs": [
    {
     "data": {
      "text/plain": [
       "'5'"
      ]
     },
     "execution_count": 10,
     "metadata": {},
     "output_type": "execute_result"
    }
   ],
   "source": [
    "data_list[0]"
   ]
  },
  {
   "cell_type": "code",
   "execution_count": 6,
   "metadata": {},
   "outputs": [],
   "source": [
    "import numpy\n",
    "import matplotlib.pyplot\n",
    "%matplotlib inline"
   ]
  },
  {
   "cell_type": "code",
   "execution_count": null,
   "metadata": {},
   "outputs": [],
   "source": [
    "all_values = data_list"
   ]
  },
  {
   "cell_type": "code",
   "execution_count": null,
   "metadata": {},
   "outputs": [],
   "source": []
  },
  {
   "cell_type": "code",
   "execution_count": 13,
   "metadata": {},
   "outputs": [
    {
     "data": {
      "image/png": "[encoded data removed]",
      "text/plain": [
       "<Figure size 432x288 with 1 Axes>"
      ]
     },
     "metadata": {
      "needs_background": "light"
     },
     "output_type": "display_data"
    }
   ],
   "source": [
    "import numpy                    # 행렬 연산 등 외부 모듈 이용\n",
    "import scipy.special            # 시그모이드 함수 등 외부 모듈 이용\n",
    "import matplotlib.pyplot as plt # 이미지 출력 imshow 등 외부 모듈 이용\n",
    " \n",
    "class MyNeuralNetwork:\n",
    "    def __init__(self, inputNodesCnt, hiddenNodesCnt, outputNodesCnt, learningRate):\n",
    "        self.inputNodesCnt  = inputNodesCnt     # 입력계층 노드 수\n",
    "        self.hiddenNodesCnt = hiddenNodesCnt    # 은닉계층 노드 수\n",
    "        self.outputNodesCnt = outputNodesCnt    # 출력계층 노드 수\n",
    "        self.lr             = learningRate      # 학습률\n",
    "        \n",
    "        # numpy.random.normal 첫번째인자(0.0)를 중심, 두번째인자를 너비로하는 정규분포, 세번째인자를 크기로 생성한다.\n",
    "        # 가중치(입력층 -> 은닉층): wih\n",
    "        # 행렬 사이즈의 순서를 은닉, 입력 순으로 바꾼 이유는 아래 행렬 내적연산을 자연스럽게 하기 위해서이다.\n",
    "        self.wih = numpy.random.normal(0.0, pow(self.hiddenNodesCnt, -0.5), (self.hiddenNodesCnt, self.inputNodesCnt))\n",
    "        # 가중치(은닉층 -> 출력층): who\n",
    "        self.who = numpy.random.normal(0.0, pow(self.outputNodesCnt, -0.5), (self.outputNodesCnt, self.hiddenNodesCnt))\n",
    "        # 활성화함수 지정(여기서는 시그모이드함수 이용)\n",
    "        self.activationFunc = lambda x: scipy.special.expit(x)\n",
    "        \n",
    "    # 입력데이터와 정답라벨을 입력받아 학습한다.(마지막에 가중치 업데이트함을 주목하자)\n",
    "    def train(self, inputsList, targetsList):\n",
    "        # 가로로된 리스트를 2차원으로 변경하고 세로로 세운다.\n",
    "        inputs = numpy.array(inputsList, ndmin=2).T\n",
    "        \n",
    "        # 가로로된 리스트를 2차원으로 변경하고 세로로 세운다.\n",
    "        # targets는 출력계층 노드 수와 같고, 정답지에는 0.99 그렇지 않은 경우 0.01로 저장됨\n",
    "        # 정답인 1개만 아주 크고 나머진 아주 작은 one-hot encoding으로 구성되어 있다.\n",
    "        targets = numpy.array(targetsList, ndmin=2).T\n",
    "        \n",
    "        # [은닉계층 노드 수 X 입력계층 노드 수] 행렬과 [입력계층 노드 수 X 1] 행렬의 내적을 구한 후 활성화 함수 호출\n",
    "        hiddenOutputs = self.activationFunc(numpy.dot(self.wih, inputs))\n",
    "        \n",
    "        # [출력계층 노드 수 X 은닉계층 노드 수] 행렬과 [은닉계층 노드 수 X 1] 행렬의 내적을 구한 후 활성화 함수 호출\n",
    "        # 출력계층에는 활성화 함수를 생략하기도 한다.\n",
    "        hypothesis = self.activationFunc(numpy.dot(self.who, hiddenOutputs))\n",
    "        \n",
    "        # 정답과 가정사이에 발생한 오차1(=비용)\n",
    "        cost = targets - hypothesis        \n",
    "        # (은닉게층 -> 출력계층) 가중치 업데이트\n",
    "        self.who += self.lr * numpy.dot((cost * hypothesis * (1.0 - hypothesis)), numpy.transpose(hiddenOutputs))\n",
    "                \n",
    "        # 은닉계층 -> 출력계층의 전치와 오차1의 내적을 통해 오차2 계산\n",
    "        hiddenErrors = numpy.dot(self.who.T, cost)        \n",
    "        # (입력계층 -> 은닉계층) 가중치 업데이트\n",
    "        self.wih += self.lr * numpy.dot((hiddenErrors * hiddenOutputs * (1.0 - hiddenOutputs)), numpy.transpose(inputs))\n",
    "    \n",
    "    # 입력데이터를 신경망에 테스트하여 결과를 얻는다.\n",
    "    def test(self, inputsList):\n",
    "        # 가로로된 리스트를 2차원으로 변경하고 세로로 세운다.\n",
    "        inputs = numpy.array(inputsList, ndmin=2).T\n",
    "        \n",
    "        # [은닉계층 노드 수 X 입력계층 노드 수] 행렬과 [입력계층 노드 수 X 1] 행렬의 내적을 구한 후 활성화 함수 호출\n",
    "        hiddenOutputs = self.activationFunc(numpy.dot(self.wih, inputs))\n",
    "        \n",
    "        # [출력계층 노드 수 X 은닉계층 노드 수] 행렬과 [은닉계층 노드 수 X 1] 행렬의 내적을 구한 후 활성화 함수 호출\n",
    "        return self.activationFunc(numpy.dot(self.who, hiddenOutputs))\n",
    "        \n",
    "# 학습용(traing)데이터와 테스트용(test)데이터를 분리하여 준비\n",
    "trainingDataFileHandler = open(\"mnist_dataset/mnist_train.csv\",\"r\")\n",
    "# 학습용데이터를 읽어서 리스트형태로 저장\n",
    "trainingDataList = trainingDataFileHandler.readlines()\n",
    "# 학습용데이터 파일 핸들러를 닫는다.\n",
    "trainingDataFileHandler.close()\n",
    " \n",
    "\n",
    "    \n",
    "testDataFileHandler = open(\"mnist_dataset/mnist_test.csv\",\"r\")\n",
    "# 테스트용데이터를 읽어서 리스트형태로 저장\n",
    "testDataList = testDataFileHandler.readlines()\n",
    "# 테스트용데이터 파일 핸들러를 닫는다.\n",
    "testDataFileHandler.close()\n",
    " \n",
    " \n",
    " \n",
    "        \n",
    "inputNodesCnt  = 784  # 입력계층 노드 수\n",
    "hiddenNodesCnt = 100  # 은닉계층 노드 수\n",
    "outputNodesCnt = 10   # 출력계층 노드 수\n",
    " \n",
    "learningRate = 0.1    # 학습률\n",
    " \n",
    "net = MyNeuralNetwork(inputNodesCnt, hiddenNodesCnt, outputNodesCnt, learningRate)\n",
    " \n",
    "# 현재 스텝을 기록한다.\n",
    "step = [];\n",
    "# 현재 스텝의 정확도를 기록한다.\n",
    "stepPerf = [];\n",
    " \n",
    "for epochs in range(1, 10, 1):\n",
    "    for e in range(epochs):\n",
    "        for record in trainingDataList:\n",
    "            # 한줄의 데이터를 읽어 쉼표를 구분자로 하여 여러 셀에 기록한다.\n",
    "            cells = record.split(',')\n",
    "            \n",
    "            # 색상값이 0~255 사이 숫자이다.\n",
    "            # 잘 학습할 수 있도록 0은 피하고 큰수를 피하기 위해 0.01 ~ 1.00 사이로 조정한다.\n",
    "            inputs = (numpy.asfarray(cells[1:])/255.0*0.99) + 0.01\n",
    "            \n",
    "            # 정답인 1개만 아주 크고 나머진 아주 작은 one-hot encoding으로 구성되어 있다.\n",
    "            targets = numpy.zeros(outputNodesCnt) + 0.01\n",
    "            targets[int(cells[0])] = 0.99\n",
    "            \n",
    "            # 학습시킨다.\n",
    "            net.train(inputs, targets)\n",
    "            \n",
    "    resultCard = []\n",
    " \n",
    "    for record in testDataList:\n",
    "        # 한줄의 데이터를 읽어 쉼표를 구분자로 하여 여러 셀에 기록한다.\n",
    "        cells = record.split(',')\n",
    "        # 첫번째 항목은 라벨링된 정답지이다.\n",
    "        target = int(cells[0])\n",
    "        \n",
    "        # 색상값이 0~255 사이 숫자이다.\n",
    "        # 잘 학습할 수 있도록 0은 피하고 큰수를 피하기 위해 0.01 ~ 1.00 사이로 조정한다.\n",
    "        inputs = (numpy.asfarray(cells[1:])/255.0 * 0.99) + 0.01\n",
    "        \n",
    "        # 테스트 쿼리를 실행한다.\n",
    "        outputs = net.test(inputs)\n",
    "        # 배열중 최대값을 가진 인덱스를 반환한느 argmax를 통해 찾은 최대값과 정답지를 비교한다.\n",
    "        if(numpy.argmax(outputs) == target):\n",
    "            # 정답이라면 1 표시\n",
    "            resultCard.append(1)\n",
    "        else:\n",
    "            # 오답이라면 0 표시\n",
    "            resultCard.append(0)\n",
    "            \n",
    "    # resultCard 리스트를 배열형태로 변환한 후 평균을 구한다.\n",
    "    perf = numpy.asarray(resultCard).mean() * 100.0\n",
    "    \n",
    "    # 현재 에폭을 step에 저장\n",
    "    step.append(epochs);\n",
    "    # 현재 에폭의 결과를 stepPerf에 저장\n",
    "    stepPerf.append(perf);\n",
    "    \n",
    "    \n",
    "    \n",
    "plt.plot(step, stepPerf)\n",
    "plt.show()"
   ]
  }
 ],
 "metadata": {
  "kernelspec": {
   "display_name": "Python 3",
   "language": "python",
   "name": "python3"
  },
  "language_info": {
   "codemirror_mode": {
    "name": "ipython",
    "version": 3
   },
   "file_extension": ".py",
   "mimetype": "text/x-python",
   "name": "python",
   "nbconvert_exporter": "python",
   "pygments_lexer": "ipython3",
   "version": "3.8.2"
  }
 },
 "nbformat": 4,
 "nbformat_minor": 4
}
