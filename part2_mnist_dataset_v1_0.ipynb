{
  "nbformat": 4,
  "nbformat_minor": 0,
  "metadata": {
    "colab": {
      "name": "part2_mnist_dataset_v1.0.ipynb",
      "provenance": [],
      "collapsed_sections": [],
      "toc_visible": true,
      "include_colab_link": true
    },
    "kernelspec": {
      "name": "python3",
      "display_name": "Python 3"
    }
  },
  "cells": [
    {
      "cell_type": "markdown",
      "metadata": {
        "id": "view-in-github",
        "colab_type": "text"
      },
      "source": [
        "<a href=\"https://colab.research.google.com/github/sokim0991/Beginner-Intro-to-Neural-Networks/blob/main/part2_mnist_dataset_v1_0.ipynb\" target=\"_parent\"><img src=\"https://colab.research.google.com/assets/colab-badge.svg\" alt=\"Open In Colab\"/></a>"
      ]
    },
    {
      "cell_type": "markdown",
      "metadata": {
        "id": "tUSdV52w3U3d"
      },
      "source": [
        "# **MNIST 데이터 불러오기**\r\n",
        "\r\n"
      ]
    },
    {
      "cell_type": "markdown",
      "metadata": {
        "id": "4AAkMnRazNEy"
      },
      "source": [
        " [[ML/DL] MNIST 손글씨 데이터 인식하기](https://airsbigdata.tistory.com/196)"
      ]
    },
    {
      "cell_type": "markdown",
      "metadata": {
        "id": "Qbfym6_W4MXV"
      },
      "source": [
        "\r\n",
        "\r\n",
        "[Dataset 다운로드](https://drive.google.com/drive/folders/1duR7FcDp22ybLSAmicgNX29Kfs_20afi?usp=sharing)"
      ]
    },
    {
      "cell_type": "code",
      "metadata": {
        "id": "moPF8XlP_6WA"
      },
      "source": [
        "#데이터를 불러오고 그 파일을 읽는다.\n",
        "data_file = open(\"mnist_train_100.csv\", 'r')\n",
        "data_list = data_file.readlines()\n",
        "data_file.close()"
      ],
      "execution_count": null,
      "outputs": []
    },
    {
      "cell_type": "code",
      "metadata": {
        "colab": {
          "base_uri": "https://localhost:8080/"
        },
        "id": "XmZMtA_S7iRH",
        "outputId": "455a689a-337e-4896-ff9d-e2071081d626"
      },
      "source": [
        "len(data_list)"
      ],
      "execution_count": null,
      "outputs": [
        {
          "output_type": "execute_result",
          "data": {
            "text/plain": [
              "100"
            ]
          },
          "metadata": {
            "tags": []
          },
          "execution_count": 2
        }
      ]
    },
    {
      "cell_type": "code",
      "metadata": {
        "colab": {
          "base_uri": "https://localhost:8080/",
          "height": 250
        },
        "id": "4aJdn5e-7mwJ",
        "outputId": "4905a330-87ad-410f-b5d7-61022844a544"
      },
      "source": [
        "data_list[0]"
      ],
      "execution_count": null,
      "outputs": [
        {
          "output_type": "execute_result",
          "data": {
            "application/vnd.google.colaboratory.intrinsic+json": {
              "type": "string"
            },
            "text/plain": [
              "'5,0,0,0,0,0,0,0,0,0,0,0,0,0,0,0,0,0,0,0,0,0,0,0,0,0,0,0,0,0,0,0,0,0,0,0,0,0,0,0,0,0,0,0,0,0,0,0,0,0,0,0,0,0,0,0,0,0,0,0,0,0,0,0,0,0,0,0,0,0,0,0,0,0,0,0,0,0,0,0,0,0,0,0,0,0,0,0,0,0,0,0,0,0,0,0,0,0,0,0,0,0,0,0,0,0,0,0,0,0,0,0,0,0,0,0,0,0,0,0,0,0,0,0,0,0,0,0,0,0,0,0,0,0,0,0,0,0,0,0,0,0,0,0,0,0,0,0,0,0,0,0,0,3,18,18,18,126,136,175,26,166,255,247,127,0,0,0,0,0,0,0,0,0,0,0,0,30,36,94,154,170,253,253,253,253,253,225,172,253,242,195,64,0,0,0,0,0,0,0,0,0,0,0,49,238,253,253,253,253,253,253,253,253,251,93,82,82,56,39,0,0,0,0,0,0,0,0,0,0,0,0,18,219,253,253,253,253,253,198,182,247,241,0,0,0,0,0,0,0,0,0,0,0,0,0,0,0,0,0,0,80,156,107,253,253,205,11,0,43,154,0,0,0,0,0,0,0,0,0,0,0,0,0,0,0,0,0,0,0,14,1,154,253,90,0,0,0,0,0,0,0,0,0,0,0,0,0,0,0,0,0,0,0,0,0,0,0,0,0,139,253,190,2,0,0,0,0,0,0,0,0,0,0,0,0,0,0,0,0,0,0,0,0,0,0,0,0,11,190,253,70,0,0,0,0,0,0,0,0,0,0,0,0,0,0,0,0,0,0,0,0,0,0,0,0,0,35,241,225,160,108,1,0,0,0,0,0,0,0,0,0,0,0,0,0,0,0,0,0,0,0,0,0,0,0,81,240,253,253,119,25,0,0,0,0,0,0,0,0,0,0,0,0,0,0,0,0,0,0,0,0,0,0,0,45,186,253,253,150,27,0,0,0,0,0,0,0,0,0,0,0,0,0,0,0,0,0,0,0,0,0,0,0,16,93,252,253,187,0,0,0,0,0,0,0,0,0,0,0,0,0,0,0,0,0,0,0,0,0,0,0,0,0,249,253,249,64,0,0,0,0,0,0,0,0,0,0,0,0,0,0,0,0,0,0,0,0,0,46,130,183,253,253,207,2,0,0,0,0,0,0,0,0,0,0,0,0,0,0,0,0,0,0,0,39,148,229,253,253,253,250,182,0,0,0,0,0,0,0,0,0,0,0,0,0,0,0,0,0,0,24,114,221,253,253,253,253,201,78,0,0,0,0,0,0,0,0,0,0,0,0,0,0,0,0,0,23,66,213,253,253,253,253,198,81,2,0,0,0,0,0,0,0,0,0,0,0,0,0,0,0,0,18,171,219,253,253,253,253,195,80,9,0,0,0,0,0,0,0,0,0,0,0,0,0,0,0,0,55,172,226,253,253,253,253,244,133,11,0,0,0,0,0,0,0,0,0,0,0,0,0,0,0,0,0,0,136,253,253,253,212,135,132,16,0,0,0,0,0,0,0,0,0,0,0,0,0,0,0,0,0,0,0,0,0,0,0,0,0,0,0,0,0,0,0,0,0,0,0,0,0,0,0,0,0,0,0,0,0,0,0,0,0,0,0,0,0,0,0,0,0,0,0,0,0,0,0,0,0,0,0,0,0,0,0,0,0,0,0,0,0,0,0,0,0,0,0,0,0,0,0,0,0,0,0,0,0,0,0,0,0,0,0,0\\n'"
            ]
          },
          "metadata": {
            "tags": []
          },
          "execution_count": 3
        }
      ]
    },
    {
      "cell_type": "code",
      "metadata": {
        "id": "2x_N77z25Uvd"
      },
      "source": [
        "import numpy\r\n",
        "import matplotlib.pyplot\r\n",
        "%matplotlib inline"
      ],
      "execution_count": null,
      "outputs": []
    },
    {
      "cell_type": "markdown",
      "metadata": {
        "id": "GFTQb9tTMF-t"
      },
      "source": [
        "\r\n",
        "\r\n",
        "*   split():  구분자로 사용할 기호를 그 매개변수로 가진다. 리스트를 불러와서 쉼표로 구분하여 분리한다. \r\n",
        "*   numpy.asfarray(): 문자열을 실수로 변환한 다음에 그 숫자로 구성된 배열을 생성한다.\r\n",
        "*   reshape((28,28)): 784개의 어레이 숫자들을 28 x 28 형태의 정방 행렬로 만들어 준다\r\n",
        "\r\n",
        "*   all_values[1:]: 리스트의 원소중 가장 첫 번째 원소는 이 원소들이 무엇을 표현하는 것인지를 알려주는 것이기 때문에 빼준다.\r\n",
        "*   imshow(): image_array를 회색으로 시각화"
      ]
    },
    {
      "cell_type": "code",
      "metadata": {
        "colab": {
          "base_uri": "https://localhost:8080/",
          "height": 282
        },
        "id": "19rDvyy830ng",
        "outputId": "cc920f6c-753f-4ef4-e03e-7879c005155c"
      },
      "source": [
        "all_values = data_list[0].split(',') \r\n",
        "image_array = numpy.asfarray(all_values[1:]).reshape((28,28)) \r\n",
        "matplotlib.pyplot.imshow(image_array, cmap='Greys', interpolation='None') "
      ],
      "execution_count": null,
      "outputs": [
        {
          "output_type": "execute_result",
          "data": {
            "text/plain": [
              "<matplotlib.image.AxesImage at 0x7f40b54b4080>"
            ]
          },
          "metadata": {
            "tags": []
          },
          "execution_count": 5
        },
        {
          "output_type": "display_data",
          "data": {
            "image/png": "[encoded data removed]",
            "text/plain": [
              "<Figure size 432x288 with 1 Axes>"
            ]
          },
          "metadata": {
            "tags": [],
            "needs_background": "light"
          }
        }
      ]
    },
    {
      "cell_type": "code",
      "metadata": {
        "colab": {
          "base_uri": "https://localhost:8080/",
          "height": 282
        },
        "id": "AvPUV2Hd3877",
        "outputId": "cf2053ff-f7e1-43dc-aca1-ccc34d16e51b"
      },
      "source": [
        "all_values = data_list[1].split(',')\r\n",
        "image_array = numpy.asfarray(all_values[1:]).reshape((28,28))\r\n",
        "matplotlib.pyplot.imshow(image_array, cmap='Greys', interpolation='None')"
      ],
      "execution_count": null,
      "outputs": [
        {
          "output_type": "execute_result",
          "data": {
            "text/plain": [
              "<matplotlib.image.AxesImage at 0x7f40b544ca20>"
            ]
          },
          "metadata": {
            "tags": []
          },
          "execution_count": 6
        },
        {
          "output_type": "display_data",
          "data": {
            "image/png": "[encoded data removed]",
            "text/plain": [
              "<Figure size 432x288 with 1 Axes>"
            ]
          },
          "metadata": {
            "tags": [],
            "needs_background": "light"
          }
        }
      ]
    },
    {
      "cell_type": "markdown",
      "metadata": {
        "id": "G6mxMnQpRzyJ"
      },
      "source": [
        "# **NMIST 학습 데이터 준비하기**"
      ]
    },
    {
      "cell_type": "code",
      "metadata": {
        "colab": {
          "base_uri": "https://localhost:8080/"
        },
        "id": "SmtabWPJAPiy",
        "outputId": "0d61a18f-e042-4b5b-ec96-d51842bcdba2"
      },
      "source": [
        "# scale input to range 0.01 to 1.00\n",
        "scaled_input = (numpy.asfarray(all_values[1:]) / 255.0 * 0.99) + 0.01\n",
        "print(scaled_input)"
      ],
      "execution_count": null,
      "outputs": [
        {
          "output_type": "stream",
          "text": [
            "[0.01       0.01       0.01       0.01       0.01       0.01\n",
            " 0.01       0.01       0.01       0.01       0.01       0.01\n",
            " 0.01       0.01       0.01       0.01       0.01       0.01\n",
            " 0.01       0.01       0.01       0.01       0.01       0.01\n",
            " 0.01       0.01       0.01       0.01       0.01       0.01\n",
            " 0.01       0.01       0.01       0.01       0.01       0.01\n",
            " 0.01       0.01       0.01       0.01       0.01       0.01\n",
            " 0.01       0.01       0.01       0.01       0.01       0.01\n",
            " 0.01       0.01       0.01       0.01       0.01       0.01\n",
            " 0.01       0.01       0.01       0.01       0.01       0.01\n",
            " 0.01       0.01       0.01       0.01       0.01       0.01\n",
            " 0.01       0.01       0.01       0.01       0.01       0.01\n",
            " 0.01       0.01       0.01       0.01       0.01       0.01\n",
            " 0.01       0.01       0.01       0.01       0.01       0.01\n",
            " 0.01       0.01       0.01       0.01       0.01       0.01\n",
            " 0.01       0.01       0.01       0.01       0.01       0.01\n",
            " 0.01       0.01       0.01       0.01       0.01       0.01\n",
            " 0.01       0.01       0.01       0.01       0.01       0.01\n",
            " 0.01       0.01       0.01       0.01       0.01       0.01\n",
            " 0.01       0.01       0.01       0.01       0.01       0.01\n",
            " 0.01       0.01       0.01       0.01       0.01       0.01\n",
            " 0.01       0.208      0.62729412 0.99223529 0.62729412 0.20411765\n",
            " 0.01       0.01       0.01       0.01       0.01       0.01\n",
            " 0.01       0.01       0.01       0.01       0.01       0.01\n",
            " 0.01       0.01       0.01       0.01       0.01       0.01\n",
            " 0.01       0.01       0.01       0.01       0.19635294 0.934\n",
            " 0.98835294 0.98835294 0.98835294 0.93011765 0.01       0.01\n",
            " 0.01       0.01       0.01       0.01       0.01       0.01\n",
            " 0.01       0.01       0.01       0.01       0.01       0.01\n",
            " 0.01       0.01       0.01       0.01       0.01       0.01\n",
            " 0.01       0.21964706 0.89129412 0.99223529 0.98835294 0.93788235\n",
            " 0.91458824 0.98835294 0.23129412 0.03329412 0.01       0.01\n",
            " 0.01       0.01       0.01       0.01       0.01       0.01\n",
            " 0.01       0.01       0.01       0.01       0.01       0.01\n",
            " 0.01       0.01       0.01       0.04882353 0.24294118 0.87964706\n",
            " 0.98835294 0.99223529 0.98835294 0.79423529 0.33611765 0.98835294\n",
            " 0.99223529 0.48364706 0.01       0.01       0.01       0.01\n",
            " 0.01       0.01       0.01       0.01       0.01       0.01\n",
            " 0.01       0.01       0.01       0.01       0.01       0.01\n",
            " 0.01       0.64282353 0.98835294 0.98835294 0.98835294 0.99223529\n",
            " 0.98835294 0.98835294 0.38270588 0.74376471 0.99223529 0.65835294\n",
            " 0.01       0.01       0.01       0.01       0.01       0.01\n",
            " 0.01       0.01       0.01       0.01       0.01       0.01\n",
            " 0.01       0.01       0.01       0.01       0.208      0.934\n",
            " 0.99223529 0.99223529 0.74764706 0.45258824 0.99223529 0.89517647\n",
            " 0.19247059 0.31670588 1.         0.66223529 0.01       0.01\n",
            " 0.01       0.01       0.01       0.01       0.01       0.01\n",
            " 0.01       0.01       0.01       0.01       0.01       0.01\n",
            " 0.01       0.19635294 0.934      0.98835294 0.98835294 0.70494118\n",
            " 0.05658824 0.30117647 0.47976471 0.09152941 0.01       0.01\n",
            " 0.99223529 0.95341176 0.20411765 0.01       0.01       0.01\n",
            " 0.01       0.01       0.01       0.01       0.01       0.01\n",
            " 0.01       0.01       0.01       0.01       0.15752941 0.65058824\n",
            " 0.99223529 0.91458824 0.81752941 0.33611765 0.01       0.01\n",
            " 0.01       0.01       0.01       0.01       0.99223529 0.98835294\n",
            " 0.65058824 0.01       0.01       0.01       0.01       0.01\n",
            " 0.01       0.01       0.01       0.01       0.01       0.01\n",
            " 0.01       0.03717647 0.70105882 0.98835294 0.94176471 0.28564706\n",
            " 0.08376471 0.11870588 0.01       0.01       0.01       0.01\n",
            " 0.01       0.01       0.99223529 0.98835294 0.76705882 0.01\n",
            " 0.01       0.01       0.01       0.01       0.01       0.01\n",
            " 0.01       0.01       0.01       0.01       0.01       0.23129412\n",
            " 0.98835294 0.98835294 0.25458824 0.01       0.01       0.01\n",
            " 0.01       0.01       0.01       0.01       0.01       0.01\n",
            " 0.99223529 0.98835294 0.76705882 0.01       0.01       0.01\n",
            " 0.01       0.01       0.01       0.01       0.01       0.01\n",
            " 0.01       0.01       0.01       0.77870588 0.99223529 0.74764706\n",
            " 0.01       0.01       0.01       0.01       0.01       0.01\n",
            " 0.01       0.01       0.01       0.01       1.         0.99223529\n",
            " 0.77094118 0.01       0.01       0.01       0.01       0.01\n",
            " 0.01       0.01       0.01       0.01       0.01       0.01\n",
            " 0.30505882 0.96505882 0.98835294 0.44482353 0.01       0.01\n",
            " 0.01       0.01       0.01       0.01       0.01       0.01\n",
            " 0.01       0.01       0.99223529 0.98835294 0.58458824 0.01\n",
            " 0.01       0.01       0.01       0.01       0.01       0.01\n",
            " 0.01       0.01       0.01       0.01       0.34       0.98835294\n",
            " 0.90294118 0.10705882 0.01       0.01       0.01       0.01\n",
            " 0.01       0.01       0.01       0.01       0.03717647 0.53411765\n",
            " 0.99223529 0.73211765 0.05658824 0.01       0.01       0.01\n",
            " 0.01       0.01       0.01       0.01       0.01       0.01\n",
            " 0.01       0.01       0.34       0.98835294 0.87576471 0.01\n",
            " 0.01       0.01       0.01       0.01       0.01       0.01\n",
            " 0.01       0.03717647 0.51858824 0.98835294 0.88352941 0.28564706\n",
            " 0.01       0.01       0.01       0.01       0.01       0.01\n",
            " 0.01       0.01       0.01       0.01       0.01       0.01\n",
            " 0.34       0.98835294 0.57294118 0.01       0.01       0.01\n",
            " 0.01       0.01       0.01       0.01       0.19635294 0.65058824\n",
            " 0.98835294 0.68164706 0.01       0.01       0.01       0.01\n",
            " 0.01       0.01       0.01       0.01       0.01       0.01\n",
            " 0.01       0.01       0.01       0.01       0.34388235 0.99223529\n",
            " 0.88352941 0.01       0.01       0.01       0.01       0.01\n",
            " 0.01       0.45258824 0.934      0.99223529 0.63894118 0.01\n",
            " 0.01       0.01       0.01       0.01       0.01       0.01\n",
            " 0.01       0.01       0.01       0.01       0.01       0.01\n",
            " 0.01       0.01       0.34       0.98835294 0.97670588 0.57682353\n",
            " 0.19635294 0.12258824 0.34       0.70105882 0.88352941 0.99223529\n",
            " 0.87576471 0.65835294 0.22741176 0.01       0.01       0.01\n",
            " 0.01       0.01       0.01       0.01       0.01       0.01\n",
            " 0.01       0.01       0.01       0.01       0.01       0.01\n",
            " 0.34       0.98835294 0.98835294 0.98835294 0.89905882 0.84470588\n",
            " 0.98835294 0.98835294 0.98835294 0.77094118 0.51470588 0.01\n",
            " 0.01       0.01       0.01       0.01       0.01       0.01\n",
            " 0.01       0.01       0.01       0.01       0.01       0.01\n",
            " 0.01       0.01       0.01       0.01       0.11870588 0.78258824\n",
            " 0.98835294 0.98835294 0.99223529 0.98835294 0.98835294 0.91458824\n",
            " 0.57294118 0.01       0.01       0.01       0.01       0.01\n",
            " 0.01       0.01       0.01       0.01       0.01       0.01\n",
            " 0.01       0.01       0.01       0.01       0.01       0.01\n",
            " 0.01       0.01       0.01       0.10705882 0.50694118 0.98835294\n",
            " 0.99223529 0.98835294 0.55741176 0.15364706 0.01       0.01\n",
            " 0.01       0.01       0.01       0.01       0.01       0.01\n",
            " 0.01       0.01       0.01       0.01       0.01       0.01\n",
            " 0.01       0.01       0.01       0.01       0.01       0.01\n",
            " 0.01       0.01       0.01       0.01       0.01       0.01\n",
            " 0.01       0.01       0.01       0.01       0.01       0.01\n",
            " 0.01       0.01       0.01       0.01       0.01       0.01\n",
            " 0.01       0.01       0.01       0.01       0.01       0.01\n",
            " 0.01       0.01       0.01       0.01       0.01       0.01\n",
            " 0.01       0.01       0.01       0.01       0.01       0.01\n",
            " 0.01       0.01       0.01       0.01       0.01       0.01\n",
            " 0.01       0.01       0.01       0.01       0.01       0.01\n",
            " 0.01       0.01       0.01       0.01       0.01       0.01\n",
            " 0.01       0.01       0.01       0.01       0.01       0.01\n",
            " 0.01       0.01       0.01       0.01       0.01       0.01\n",
            " 0.01       0.01       0.01       0.01       0.01       0.01\n",
            " 0.01       0.01       0.01       0.01       0.01       0.01\n",
            " 0.01       0.01       0.01       0.01       0.01       0.01\n",
            " 0.01       0.01       0.01       0.01       0.01       0.01\n",
            " 0.01       0.01       0.01       0.01       0.01       0.01\n",
            " 0.01       0.01       0.01       0.01       0.01       0.01\n",
            " 0.01       0.01       0.01       0.01      ]\n"
          ],
          "name": "stdout"
        }
      ]
    },
    {
      "cell_type": "code",
      "metadata": {
        "id": "Q5jSVeiMUYRO"
      },
      "source": [
        "#출력 노드는 10(예시)\r\n",
        "onodes = 10\r\n",
        "targets = numpy.zeros(onodes) + 0.01\r\n",
        "targets[int(all_values[0])] = 0.99"
      ],
      "execution_count": null,
      "outputs": []
    },
    {
      "cell_type": "code",
      "metadata": {
        "colab": {
          "base_uri": "https://localhost:8080/"
        },
        "id": "t0bWGbZfVmZ_",
        "outputId": "4a51edba-b3bf-4f64-d561-bb13e261a55a"
      },
      "source": [
        "print(targets)"
      ],
      "execution_count": null,
      "outputs": [
        {
          "output_type": "stream",
          "text": [
            "[0.99 0.01 0.01 0.01 0.01 0.01 0.01 0.01 0.01 0.01]\n"
          ],
          "name": "stdout"
        }
      ]
    },
    {
      "cell_type": "code",
      "metadata": {
        "id": "vWLSWdk0Xuup"
      },
      "source": [
        "#3계층의 신경망으로 MNIST 데이터를 학습하는 코드\r\n",
        "\r\n",
        "import numpy\r\n",
        "# 시그모이드 함수 expit() 사용을 위해 scipy.special 불러오기\r\n",
        "import scipy.special\r\n",
        "# 행렬을 시각화하기 위한 라이브러리\r\n",
        "import matplotlib.pyplot\r\n",
        "# 시각화가 외부 윈도우가 아닌 현재의 노트북 내에서 보이도록 설정\r\n",
        "%matplotlib inline"
      ],
      "execution_count": null,
      "outputs": []
    },
    {
      "cell_type": "code",
      "metadata": {
        "id": "R3Ste2osXw-G"
      },
      "source": [
        "# 신경망 클래스의 정의 \r\n",
        "class neuralNetwork:\r\n",
        "    \r\n",
        "    \r\n",
        "    # 신경망 초기화하기\r\n",
        "    def __init__(self, inputnodes, hiddennodes, outputnodes, learningrate):\r\n",
        "        # 입력, 은익, 출력 계층의 노드 개수 설정\r\n",
        "        self.inodes = inputnodes\r\n",
        "        self.hnodes = hiddennodes\r\n",
        "        self.onodes = outputnodes\r\n",
        "        \r\n",
        "        # 가중치 matrices, wih와 who\r\n",
        "        # arrays 내 가중치는 w_i_j로 표기\r\n",
        "        self.wih = numpy.random.normal(0.0, pow(self.hnodes, -0.5), (self.hnodes, self.inodes))\r\n",
        "        self.who = numpy.random.normal(0.0, pow(self.onodes, -0.5), (self.onodes, self.hnodes))\r\n",
        "\r\n",
        "        # 학습률\r\n",
        "        self.lr = learningrate\r\n",
        "        \r\n",
        "        # activation 함수는 sigmoid 함수\r\n",
        "        self.activation_function = lambda x: scipy.special.expit(x)\r\n",
        "        \r\n",
        "        pass\r\n",
        "\r\n",
        "    \r\n",
        "    # 신경망 학습시키기\r\n",
        "    def train(self, inputs_list, targets_list):\r\n",
        "        # 입력 리스트를 2차원의 행렬로 변환\r\n",
        "        inputs = numpy.array(inputs_list, ndmin=2).T\r\n",
        "        targets = numpy.array(targets_list, ndmin=2).T\r\n",
        "        \r\n",
        "        # 은닉 계층으로 들어오는 신호를 계산\r\n",
        "        hidden_inputs = numpy.dot(self.wih, inputs)\r\n",
        "        # 은닉 계층에서 나가는 신호를 계산\r\n",
        "        hidden_outputs = self.activation_function(hidden_inputs)\r\n",
        "        \r\n",
        "        # 최종 출력 계층으로 들어오는 신호를 계산\r\n",
        "        final_inputs = numpy.dot(self.who, hidden_outputs)\r\n",
        "        # 최종 출력 계층에서 나가는 신호를 계산\r\n",
        "        final_outputs = self.activation_function(final_inputs)\r\n",
        "        \r\n",
        "        # 출력 계층의 오차는 (target - actual)\r\n",
        "        output_errors = targets - final_outputs\r\n",
        "        # 은닉 계층의 오차는 가중치에 의해 나뉜 출력 계층의 오차들을 재조합해 계산\r\n",
        "        hidden_errors = numpy.dot(self.who.T, output_errors) \r\n",
        "        \r\n",
        "        # 은닉 계층과 출력 계층 간의 가중치 업데이트\r\n",
        "        self.who += self.lr * numpy.dot((output_errors * final_outputs * (1.0 - final_outputs)), numpy.transpose(hidden_outputs))\r\n",
        "        \r\n",
        "        # 입력 계층과 은닉 계층 간의 가중치 업데이트\r\n",
        "        self.wih += self.lr * numpy.dot((hidden_errors * hidden_outputs * (1.0 - hidden_outputs)), numpy.transpose(inputs))\r\n",
        "        \r\n",
        "        pass\r\n",
        "\r\n",
        "    \r\n",
        "    # 신경망에 질의하기\r\n",
        "    def query(self, inputs_list):\r\n",
        "        # inputs list를 2d array로 변환\r\n",
        "        inputs = numpy.array(inputs_list, ndmin=2).T\r\n",
        "        \r\n",
        "        # hidden layer로 들어오는 신호 계산\r\n",
        "        hidden_inputs = numpy.dot(self.wih, inputs)\r\n",
        "        # hidden layer에서 나가는 신호 계산\r\n",
        "        hidden_outputs = self.activation_function(hidden_inputs)\r\n",
        "        \r\n",
        "        # final output layer로 들어오는 신호 계산\r\n",
        "        final_inputs = numpy.dot(self.who, hidden_outputs)\r\n",
        "        # final output layer에서 나가는 신호 계산\r\n",
        "        final_outputs = self.activation_function(final_inputs)\r\n",
        "        \r\n",
        "        return final_outputs"
      ],
      "execution_count": null,
      "outputs": []
    },
    {
      "cell_type": "code",
      "metadata": {
        "id": "kYOIVYgtXzK9"
      },
      "source": [
        "# input, hidden, output 노드 수\r\n",
        "input_nodes = 784\r\n",
        "hidden_nodes = 100\r\n",
        "output_nodes = 10\r\n",
        "\r\n",
        "# learning rate는 0.3\r\n",
        "learning_rate = 0.3\r\n",
        "\r\n",
        "# instance of neural network 생성\r\n",
        "n = neuralNetwork(input_nodes,hidden_nodes,output_nodes, learning_rate)"
      ],
      "execution_count": null,
      "outputs": []
    },
    {
      "cell_type": "code",
      "metadata": {
        "id": "y4EZsAnnX1M-"
      },
      "source": [
        "# toy 학습 데이터 불러오기 \r\n",
        "data_file = open(\"mnist_train_100.csv\", 'r')\r\n",
        "data_list = data_file.readlines()\r\n",
        "data_file.close()"
      ],
      "execution_count": null,
      "outputs": []
    },
    {
      "cell_type": "code",
      "metadata": {
        "id": "N7S9VC_2X3Tf"
      },
      "source": [
        "# neural network 학습 시키기\r\n",
        "\r\n",
        "# 학습 데이터 모음 내의 모든 레코드 검색\r\n",
        "for record in data_list:\r\n",
        "    # ',' 에 의해 분리\r\n",
        "    all_values = record.split(',')\r\n",
        "    # 입력 값의 범위와 값 조정\r\n",
        "    inputs = (numpy.asfarray(all_values[1:]) / 255.0 * 0.99) + 0.01\r\n",
        "    # target output values 생성 (desired label은 0.99, 그 이외에는 0.01 처리)\r\n",
        "    targets = numpy.zeros(output_nodes) + 0.01\r\n",
        "    # all_values[0]은 이 record의 target label\r\n",
        "    targets[int(all_values[0])] = 0.99\r\n",
        "    n.train(inputs, targets)\r\n",
        "    pass"
      ],
      "execution_count": null,
      "outputs": []
    },
    {
      "cell_type": "markdown",
      "metadata": {
        "id": "xGXKrfhqSUbn"
      },
      "source": [
        "# **신경망 테스트하기**"
      ]
    },
    {
      "cell_type": "code",
      "metadata": {
        "id": "n7dtCkn9X_7G"
      },
      "source": [
        "# mnist test data CSV 파일은 list로 불러오기\r\n",
        "test_data_file = open(\"mnist_test_10.csv\", 'r')\r\n",
        "test_data_list = test_data_file.readlines()\r\n",
        "test_data_file.close()"
      ],
      "execution_count": null,
      "outputs": []
    },
    {
      "cell_type": "code",
      "metadata": {
        "colab": {
          "base_uri": "https://localhost:8080/"
        },
        "id": "j1c-8r-3ZjJY",
        "outputId": "6060ff6e-ada2-4586-ebf7-212294c7b67d"
      },
      "source": [
        "all_values = test_data_list[0].split(',')\r\n",
        "print(all_values[0])"
      ],
      "execution_count": null,
      "outputs": [
        {
          "output_type": "stream",
          "text": [
            "﻿7\n"
          ],
          "name": "stdout"
        }
      ]
    },
    {
      "cell_type": "code",
      "metadata": {
        "colab": {
          "base_uri": "https://localhost:8080/",
          "height": 282
        },
        "id": "TozxJl3WaA9F",
        "outputId": "44f42592-db1b-42b1-bb48-54362e1499d0"
      },
      "source": [
        "image_array = numpy.asfarray(all_values[1:]).reshape((28,28))\r\n",
        "matplotlib.pyplot.imshow(image_array, cmap='Greys', interpolation='None') "
      ],
      "execution_count": null,
      "outputs": [
        {
          "output_type": "execute_result",
          "data": {
            "text/plain": [
              "<matplotlib.image.AxesImage at 0x7f40aa0035c0>"
            ]
          },
          "metadata": {
            "tags": []
          },
          "execution_count": 17
        },
        {
          "output_type": "display_data",
          "data": {
            "image/png": "[encoded data removed]",
            "text/plain": [
              "<Figure size 432x288 with 1 Axes>"
            ]
          },
          "metadata": {
            "tags": [],
            "needs_background": "light"
          }
        }
      ]
    },
    {
      "cell_type": "code",
      "metadata": {
        "colab": {
          "base_uri": "https://localhost:8080/"
        },
        "id": "fqVhN_7iaPFG",
        "outputId": "8185af72-fbd2-4786-ac3f-d19df228610a"
      },
      "source": [
        "n.query((numpy.asfarray(all_values[1:]) / 255.0 * 0.99) + 0.01)"
      ],
      "execution_count": null,
      "outputs": [
        {
          "output_type": "execute_result",
          "data": {
            "text/plain": [
              "array([[0.05338204],\n",
              "       [0.00763178],\n",
              "       [0.02401697],\n",
              "       [0.15388733],\n",
              "       [0.03123819],\n",
              "       [0.02645933],\n",
              "       [0.00735809],\n",
              "       [0.90653806],\n",
              "       [0.06635273],\n",
              "       [0.01290905]])"
            ]
          },
          "metadata": {
            "tags": []
          },
          "execution_count": 18
        }
      ]
    },
    {
      "cell_type": "markdown",
      "metadata": {
        "id": "ZYstENM2SlGX"
      },
      "source": [
        "# **전체 데이터를 이용해 학습 및 테스트하기**"
      ]
    },
    {
      "cell_type": "code",
      "metadata": {
        "id": "d6gEjVI5iv7q"
      },
      "source": [
        "#3계층의 신경망으로 MNIST 데이터를 학습하는 코드\n",
        "\n",
        "import numpy\n",
        "# 시그모이드 함수 expit() 사용을 위해 scipy.special 불러오기\n",
        "import scipy.special\n",
        "# 행렬을 시각화하기 위한 라이브러리\n",
        "import matplotlib.pyplot\n",
        "# 시각화가 외부 윈도우가 아닌 현재의 노트북 내에서 보이도록 설정\n",
        "%matplotlib inline"
      ],
      "execution_count": null,
      "outputs": []
    },
    {
      "cell_type": "code",
      "metadata": {
        "id": "cIlSVA_rc1q8"
      },
      "source": [
        "# 신경망 클래스의 정의 \r\n",
        "class neuralNetwork:\r\n",
        "    \r\n",
        "    \r\n",
        "    # 신경망 초기화하기\r\n",
        "    def __init__(self, inputnodes, hiddennodes, outputnodes, learningrate):\r\n",
        "        # 입력, 은익, 출력 계층의 노드 개수 설정\r\n",
        "        self.inodes = inputnodes\r\n",
        "        self.hnodes = hiddennodes\r\n",
        "        self.onodes = outputnodes\r\n",
        "        \r\n",
        "        # 가중치 matrices, wih와 who\r\n",
        "        # arrays 내 가중치는 w_i_j로 표기\r\n",
        "        self.wih = numpy.random.normal(0.0, pow(self.hnodes, -0.5), (self.hnodes, self.inodes))\r\n",
        "        self.who = numpy.random.normal(0.0, pow(self.onodes, -0.5), (self.onodes, self.hnodes))\r\n",
        "\r\n",
        "        # 학습률\r\n",
        "        self.lr = learningrate\r\n",
        "        \r\n",
        "        # activation 함수는 sigmoid 함수\r\n",
        "        self.activation_function = lambda x: scipy.special.expit(x)\r\n",
        "        \r\n",
        "        pass\r\n",
        "\r\n",
        "    \r\n",
        "    # 신경망 학습시키기\r\n",
        "    def train(self, inputs_list, targets_list):\r\n",
        "        # 입력 리스트를 2차원의 행렬로 변환\r\n",
        "        inputs = numpy.array(inputs_list, ndmin=2).T\r\n",
        "        targets = numpy.array(targets_list, ndmin=2).T\r\n",
        "        \r\n",
        "        # 은닉 계층으로 들어오는 신호를 계산\r\n",
        "        hidden_inputs = numpy.dot(self.wih, inputs)\r\n",
        "        # 은닉 계층에서 나가는 신호를 계산\r\n",
        "        hidden_outputs = self.activation_function(hidden_inputs)\r\n",
        "        \r\n",
        "        # 최종 출력 계층으로 들어오는 신호를 계산\r\n",
        "        final_inputs = numpy.dot(self.who, hidden_outputs)\r\n",
        "        # 최종 출력 계층에서 나가는 신호를 계산\r\n",
        "        final_outputs = self.activation_function(final_inputs)\r\n",
        "        \r\n",
        "        # 출력 계층의 오차는 (target - actual)\r\n",
        "        output_errors = targets - final_outputs\r\n",
        "        # 은닉 계층의 오차는 가중치에 의해 나뉜 출력 계층의 오차들을 재조합해 계산\r\n",
        "        hidden_errors = numpy.dot(self.who.T, output_errors) \r\n",
        "        \r\n",
        "        # 은닉 계층과 출력 계층 간의 가중치 업데이트\r\n",
        "        self.who += self.lr * numpy.dot((output_errors * final_outputs * (1.0 - final_outputs)), numpy.transpose(hidden_outputs))\r\n",
        "        \r\n",
        "        # 입력 계층과 은닉 계층 간의 가중치 업데이트\r\n",
        "        self.wih += self.lr * numpy.dot((hidden_errors * hidden_outputs * (1.0 - hidden_outputs)), numpy.transpose(inputs))\r\n",
        "        \r\n",
        "        pass\r\n",
        "\r\n",
        "    \r\n",
        "    # 신경망에 질의하기\r\n",
        "    def query(self, inputs_list):\r\n",
        "        # inputs list를 2d array로 변환\r\n",
        "        inputs = numpy.array(inputs_list, ndmin=2).T\r\n",
        "        \r\n",
        "        # hidden layer로 들어오는 신호 계산\r\n",
        "        hidden_inputs = numpy.dot(self.wih, inputs)\r\n",
        "        # hidden layer에서 나가는 신호 계산\r\n",
        "        hidden_outputs = self.activation_function(hidden_inputs)\r\n",
        "        \r\n",
        "        # final output layer로 들어오는 신호 계산\r\n",
        "        final_inputs = numpy.dot(self.who, hidden_outputs)\r\n",
        "        # final output layer에서 나가는 신호 계산\r\n",
        "        final_outputs = self.activation_function(final_inputs)\r\n",
        "        \r\n",
        "        return final_outputs"
      ],
      "execution_count": null,
      "outputs": []
    },
    {
      "cell_type": "code",
      "metadata": {
        "id": "8jB717QYGqOq"
      },
      "source": [
        "# input, hidden, output 노드 수\r\n",
        "input_nodes = 784\r\n",
        "hidden_nodes = 100\r\n",
        "output_nodes = 10\r\n",
        "\r\n",
        "# learning rate는 0.3\r\n",
        "learning_rate = 0.3\r\n",
        "\r\n",
        "# instance of neural network 생성\r\n",
        "n = neuralNetwork(input_nodes,hidden_nodes,output_nodes, learning_rate)"
      ],
      "execution_count": null,
      "outputs": []
    },
    {
      "cell_type": "code",
      "metadata": {
        "id": "4SvJ6dw0dDBh"
      },
      "source": [
        "# 60,000개의 레코드를 가지는 전체 학습 데이터 불러오기\r\n",
        "training_data_file = open(\"mnist_train.csv\", 'r')\r\n",
        "training_data_list = training_data_file.readlines()\r\n",
        "training_data_file.close()"
      ],
      "execution_count": null,
      "outputs": []
    },
    {
      "cell_type": "code",
      "metadata": {
        "id": "ffOzRnKfi77R"
      },
      "source": [
        "# neural network 학습 시키기\n",
        "\n",
        "# 학습 데이터 모음 내의 모든 레코드 검색\n",
        "for record in data_list:\n",
        "    # ',' 에 의해 분리\n",
        "    all_values = record.split(',')\n",
        "    # 입력 값의 범위와 값 조정\n",
        "    inputs = (numpy.asfarray(all_values[1:]) / 255.0 * 0.99) + 0.01\n",
        "    # target output values 생성 (desired label은 0.99, 그 이외에는 0.01 처리)\n",
        "    targets = numpy.zeros(output_nodes) + 0.01\n",
        "    # all_values[0]은 이 record의 target label\n",
        "    targets[int(all_values[0])] = 0.99\n",
        "    n.train(inputs, targets)\n",
        "    pass"
      ],
      "execution_count": null,
      "outputs": []
    },
    {
      "cell_type": "code",
      "metadata": {
        "id": "F62E8eqRmEqV"
      },
      "source": [
        "# 10,000개의 레코드를 가지는 전체 테스트 데이터 불러오기\n",
        "test_data_file = open(\"mnist_test.csv\", 'r')\n",
        "test_data_list = test_data_file.readlines()\n",
        "test_data_file.close()"
      ],
      "execution_count": null,
      "outputs": []
    },
    {
      "cell_type": "code",
      "metadata": {
        "id": "KEACbQSPmAf9"
      },
      "source": [
        "# neural network 테스트\n",
        "\n",
        "# 신경망의 성능 지표가 되는 성적표 초기화\n",
        "scorecard = []\n",
        "\n",
        "# test data 모음 내의 모든 record 탐색\n",
        "for record in test_data_list:\n",
        "    # ',' 에 의해 분리\n",
        "    all_values = record.split(',')\n",
        "    # 정답은 첫 번째 값\n",
        "    correct_label = int(all_values[0])\n",
        "    # 입력 값의 범위와 값 조정\n",
        "    inputs = (numpy.asfarray(all_values[1:]) / 255.0 * 0.99) + 0.01\n",
        "    # 신경망에 질의\n",
        "    outputs = n.query(inputs)\n",
        "    # 가장 높은 값의 인덱스는 레이블의 인덱스와 일치\n",
        "    label = numpy.argmax(outputs)\n",
        "    # 정답 또는 오답을 리스트에 추가\n",
        "    if (label == correct_label):\n",
        "        # 정답인 경우 성적표에 1을 더함\n",
        "        scorecard.append(1)\n",
        "    else:\n",
        "        # 정답이 아닌 경우 성적표에 0을 더함\n",
        "        scorecard.append(0)\n",
        "        pass\n",
        "    \n",
        "    pass"
      ],
      "execution_count": null,
      "outputs": []
    },
    {
      "cell_type": "code",
      "metadata": {
        "colab": {
          "base_uri": "https://localhost:8080/"
        },
        "id": "xqlnH-hll4kF",
        "outputId": "b97fea54-c6e7-4135-e0cd-067bb37f9757"
      },
      "source": [
        "# 정답의 비율인 성적을 계산해 출력\n",
        "scorecard_array = numpy.asarray(scorecard)\n",
        "print (\"performance = \", scorecard_array.sum() / scorecard_array.size)"
      ],
      "execution_count": null,
      "outputs": [
        {
          "output_type": "stream",
          "text": [
            "performance =  0.9375\n"
          ],
          "name": "stdout"
        }
      ]
    },
    {
      "cell_type": "markdown",
      "metadata": {
        "id": "xXigEfoVS6v_"
      },
      "source": [
        "# **학습률, 주기, 노드 수 변경을 통한 신경망의 개선**"
      ]
    },
    {
      "cell_type": "code",
      "metadata": {
        "id": "m0mWHt9LTAwn"
      },
      "source": [
        "input_nodes = 784\n",
        "hidden_nodes = 200\n",
        "output_nodes = 10\n",
        "\n",
        "learning_rate = 0.2\n",
        "\n",
        "n = neuralNetwork(input_nodes,hidden_nodes,output_nodes, learning_rate)"
      ],
      "execution_count": null,
      "outputs": []
    },
    {
      "cell_type": "code",
      "metadata": {
        "id": "vrqzbpvwoPQt"
      },
      "source": [
        "training_data_file = open(\"mnist_train.csv\", 'r')\n",
        "training_data_list = training_data_file.readlines()\n",
        "training_data_file.close()"
      ],
      "execution_count": null,
      "outputs": []
    },
    {
      "cell_type": "code",
      "metadata": {
        "id": "ySNX0kjRoTAt"
      },
      "source": [
        "# 학습\n",
        "\n",
        "# 주기(epoch): 학습 데이터가 학습을 위해 사용되는 횟수\n",
        "epochs = 7\n",
        "\n",
        "for e in range(epochs):\n",
        "    for record in training_data_list:\n",
        "        all_values = record.split(',')\n",
        "        inputs = (numpy.asfarray(all_values[1:]) / 255.0 * 0.99) + 0.01\n",
        "        targets = numpy.zeros(output_nodes) + 0.01\n",
        "        targets[int(all_values[0])] = 0.99\n",
        "        n.train(inputs, targets)\n",
        "        pass\n",
        "    pass"
      ],
      "execution_count": null,
      "outputs": []
    },
    {
      "cell_type": "code",
      "metadata": {
        "id": "yHAWVdZDoVAA"
      },
      "source": [
        "test_data_file = open(\"mnist_test.csv\", 'r')\n",
        "test_data_list = test_data_file.readlines()\n",
        "test_data_file.close()"
      ],
      "execution_count": null,
      "outputs": []
    },
    {
      "cell_type": "code",
      "metadata": {
        "id": "osMyxN6-oYF7"
      },
      "source": [
        "scorecard = []\n",
        "\n",
        "for record in test_data_list:\n",
        "    all_values = record.split(',')\n",
        "    correct_label = int(all_values[0])\n",
        "    inputs = (numpy.asfarray(all_values[1:]) / 255.0 * 0.99) + 0.01\n",
        "    outputs = n.query(inputs)\n",
        "    label = numpy.argmax(outputs)\n",
        "    if (label == correct_label):\n",
        "        scorecard.append(1)\n",
        "    else:\n",
        "        scorecard.append(0)\n",
        "        pass\n",
        "    \n",
        "    pass"
      ],
      "execution_count": null,
      "outputs": []
    },
    {
      "cell_type": "code",
      "metadata": {
        "colab": {
          "base_uri": "https://localhost:8080/"
        },
        "id": "MgjBNnjEoaGA",
        "outputId": "edc803e4-3cc7-42c4-b9b6-aaf20143752b"
      },
      "source": [
        "scorecard_array = numpy.asarray(scorecard)\n",
        "print (\"performance = \", scorecard_array.sum() / scorecard_array.size)"
      ],
      "execution_count": null,
      "outputs": [
        {
          "output_type": "stream",
          "text": [
            "performance =  0.9709\n"
          ],
          "name": "stdout"
        }
      ]
    },
    {
      "cell_type": "markdown",
      "metadata": {
        "id": "IcH1ugApTdov"
      },
      "source": [
        "# **최종 코드**"
      ]
    },
    {
      "cell_type": "code",
      "metadata": {
        "id": "B0sr5hG9TjaY"
      },
      "source": [
        "#3계층의 신경망으로 MNIST 데이터를 학습하는 코드\n",
        "\n",
        "import numpy\n",
        "# 시그모이드 함수 expit() 사용을 위해 scipy.special 불러오기\n",
        "import scipy.special\n",
        "# 행렬을 시각화하기 위한 라이브러리\n",
        "import matplotlib.pyplot\n",
        "# 시각화가 외부 윈도우가 아닌 현재의 노트북 내에서 보이도록 설정\n",
        "%matplotlib inline"
      ],
      "execution_count": null,
      "outputs": []
    },
    {
      "cell_type": "code",
      "metadata": {
        "id": "cS3nuGzbYeyA"
      },
      "source": [
        "# 신경망 클래스의 정의 \n",
        "class neuralNetwork:\n",
        "    \n",
        "    \n",
        "    # 신경망 초기화하기\n",
        "    def __init__(self, inputnodes, hiddennodes, outputnodes, learningrate):\n",
        "        # 입력, 은익, 출력 계층의 노드 개수 설정\n",
        "        self.inodes = inputnodes\n",
        "        self.hnodes = hiddennodes\n",
        "        self.onodes = outputnodes\n",
        "        \n",
        "        # 가중치 matrices, wih와 who\n",
        "        # arrays 내 가중치는 w_i_j로 표기\n",
        "        self.wih = numpy.random.normal(0.0, pow(self.hnodes, -0.5), (self.hnodes, self.inodes))\n",
        "        self.who = numpy.random.normal(0.0, pow(self.onodes, -0.5), (self.onodes, self.hnodes))\n",
        "\n",
        "        # 학습률\n",
        "        self.lr = learningrate\n",
        "        \n",
        "        # activation 함수는 sigmoid 함수\n",
        "        self.activation_function = lambda x: scipy.special.expit(x)\n",
        "        \n",
        "        pass\n",
        "\n",
        "    \n",
        "    # 신경망 학습시키기\n",
        "    def train(self, inputs_list, targets_list):\n",
        "        # 입력 리스트를 2차원의 행렬로 변환\n",
        "        inputs = numpy.array(inputs_list, ndmin=2).T\n",
        "        targets = numpy.array(targets_list, ndmin=2).T\n",
        "        \n",
        "        # 은닉 계층으로 들어오는 신호를 계산\n",
        "        hidden_inputs = numpy.dot(self.wih, inputs)\n",
        "        # 은닉 계층에서 나가는 신호를 계산\n",
        "        hidden_outputs = self.activation_function(hidden_inputs)\n",
        "        \n",
        "        # 최종 출력 계층으로 들어오는 신호를 계산\n",
        "        final_inputs = numpy.dot(self.who, hidden_outputs)\n",
        "        # 최종 출력 계층에서 나가는 신호를 계산\n",
        "        final_outputs = self.activation_function(final_inputs)\n",
        "        \n",
        "        # 출력 계층의 오차는 (target - actual)\n",
        "        output_errors = targets - final_outputs\n",
        "        # 은닉 계층의 오차는 가중치에 의해 나뉜 출력 계층의 오차들을 재조합해 계산\n",
        "        hidden_errors = numpy.dot(self.who.T, output_errors) \n",
        "        \n",
        "        # 은닉 계층과 출력 계층 간의 가중치 업데이트\n",
        "        self.who += self.lr * numpy.dot((output_errors * final_outputs * (1.0 - final_outputs)), numpy.transpose(hidden_outputs))\n",
        "        \n",
        "        # 입력 계층과 은닉 계층 간의 가중치 업데이트\n",
        "        self.wih += self.lr * numpy.dot((hidden_errors * hidden_outputs * (1.0 - hidden_outputs)), numpy.transpose(inputs))\n",
        "        \n",
        "        pass\n",
        "\n",
        "    \n",
        "    # 신경망에 질의하기\n",
        "    def query(self, inputs_list):\n",
        "        # inputs list를 2d array로 변환\n",
        "        inputs = numpy.array(inputs_list, ndmin=2).T\n",
        "        \n",
        "        # hidden layer로 들어오는 신호 계산\n",
        "        hidden_inputs = numpy.dot(self.wih, inputs)\n",
        "        # hidden layer에서 나가는 신호 계산\n",
        "        hidden_outputs = self.activation_function(hidden_inputs)\n",
        "        \n",
        "        # final output layer로 들어오는 신호 계산\n",
        "        final_inputs = numpy.dot(self.who, hidden_outputs)\n",
        "        # final output layer에서 나가는 신호 계산\n",
        "        final_outputs = self.activation_function(final_inputs)\n",
        "        \n",
        "        return final_outputs"
      ],
      "execution_count": null,
      "outputs": []
    },
    {
      "cell_type": "code",
      "metadata": {
        "id": "a8AqZXa4YkN_"
      },
      "source": [
        "input_nodes = 784\n",
        "hidden_nodes = 200\n",
        "output_nodes = 10\n",
        "\n",
        "learning_rate = 0.2\n",
        "\n",
        "n = neuralNetwork(input_nodes,hidden_nodes,output_nodes, learning_rate)"
      ],
      "execution_count": null,
      "outputs": []
    },
    {
      "cell_type": "code",
      "metadata": {
        "id": "J8l8OhPvYoIw"
      },
      "source": [
        "# 60,000개의 레코드를 가지는 전체 학습 데이터 불러오기\n",
        "training_data_file = open(\"mnist_train.csv\", 'r')\n",
        "training_data_list = training_data_file.readlines()\n",
        "training_data_file.close()"
      ],
      "execution_count": null,
      "outputs": []
    },
    {
      "cell_type": "code",
      "metadata": {
        "id": "mcg8RsLAYpBZ"
      },
      "source": [
        "# 학습\n",
        "\n",
        "# 주기(epoch): 학습 데이터가 학습을 위해 사용되는 횟수\n",
        "epochs = 7\n",
        "\n",
        "for e in range(epochs):\n",
        "    for record in training_data_list:\n",
        "        all_values = record.split(',')\n",
        "        inputs = (numpy.asfarray(all_values[1:]) / 255.0 * 0.99) + 0.01\n",
        "        targets = numpy.zeros(output_nodes) + 0.01\n",
        "        targets[int(all_values[0])] = 0.99\n",
        "        n.train(inputs, targets)\n",
        "        pass\n",
        "    pass"
      ],
      "execution_count": null,
      "outputs": []
    },
    {
      "cell_type": "code",
      "metadata": {
        "id": "W3LDAMc8Ysrv"
      },
      "source": [
        "test_data_file = open(\"mnist_test.csv\", 'r')\n",
        "test_data_list = test_data_file.readlines()\n",
        "test_data_file.close()"
      ],
      "execution_count": null,
      "outputs": []
    },
    {
      "cell_type": "code",
      "metadata": {
        "id": "On0iltxfYxdc"
      },
      "source": [
        "scorecard = []\n",
        "\n",
        "for record in test_data_list:\n",
        "    all_values = record.split(',')\n",
        "    correct_label = int(all_values[0])\n",
        "    inputs = (numpy.asfarray(all_values[1:]) / 255.0 * 0.99) + 0.01\n",
        "    outputs = n.query(inputs)\n",
        "    label = numpy.argmax(outputs)\n",
        "    if (label == correct_label):\n",
        "        scorecard.append(1)\n",
        "    else:\n",
        "        scorecard.append(0)\n",
        "        pass\n",
        "    \n",
        "    pass"
      ],
      "execution_count": null,
      "outputs": []
    },
    {
      "cell_type": "code",
      "metadata": {
        "id": "BCQVgPRYYzQD"
      },
      "source": [
        "scorecard_array = numpy.asarray(scorecard)\n",
        "print (\"performance = \", scorecard_array.sum() / scorecard_array.size)"
      ],
      "execution_count": null,
      "outputs": []
    }
  ]
}